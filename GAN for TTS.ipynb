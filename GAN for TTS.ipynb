{
 "cells": [
  {
   "cell_type": "markdown",
   "metadata": {},
   "source": [
    "# GAN for TTS\n",
    "\n",
    "We are making a generative adversarial network (GAN) for Text-to-Speech (TTS) model. The structure of a normal Deep Convolutional GAN (DCGAN) is as follows:\n",
    "\n",
    "![alt_text](http://gluon.mxnet.io/_images/dcgan.png)\n",
    "\n",
    "But we will be implementing it for Speech. Now we prefer to use CNN over RNN because it is much more easily trainable, and making the model is much more easy. Also recent models like wavenet which have outperformed aything else, have use dilated convolutional models.\n",
    "\n",
    "The major bottle neck for using convolutions is that it requires a constant size of input and output, which is difficult to obtain on text based or audio based data.\n",
    "\n",
    "To deal with this, in this notebook we will be padding the sequences to the maximum length. In future we will be building more complex R-CNN models, to deal with these kinds of issues."
   ]
  },
  {
   "cell_type": "code",
   "execution_count": 3,
   "metadata": {},
   "outputs": [],
   "source": [
    "import glob # file management\n",
    "import pandas as pd # dataframe handling\n",
    "import numpy as np # matrix math\n",
    "import tensorflow as tf # ML\n",
    "import scipy.io.wavfile as wvf # importing .wav files\n",
    "import matplotlib.pyplot as plt # plotting of waveforms\n",
    "%matplotlib inline\n",
    "from six.moves import xrange # xrange to save the memory\n",
    "import os # saving the models\n",
    "import re # NLP\n",
    "import nltk # NLP\n",
    "import codecs # codec\n",
    "from keras.preprocessing.sequence import pad_sequences # for padding of sequences to proper length\n",
    "\n",
    "# importing the custom model\n",
    "import model_AGAN as Agan"
   ]
  },
  {
   "cell_type": "code",
   "execution_count": 4,
   "metadata": {
    "collapsed": true
   },
   "outputs": [],
   "source": [
    "# getting the folders and making a dataframe of addresses\n",
    "f_path = '~/Audio_Exps/VCTK-Corpus'\n",
    "folders = glob.glob(f_path + '/wav48/*')\n",
    "folder_text = glob.glob(f_path + '/txt/*')\n",
    "info = pd.read_csv('~/Audio_Exps/VCTK-Corpus/info.csv')"
   ]
  },
  {
   "cell_type": "code",
   "execution_count": 5,
   "metadata": {},
   "outputs": [
    {
     "name": "stdout",
     "output_type": "stream",
     "text": [
      "[*]Minimum number of files for any female is: 172\n"
     ]
    }
   ],
   "source": [
    "# determining the different number of samples we have for different ID females\n",
    "lens = []\n",
    "addresses = []\n",
    "for f in folders:\n",
    "    files = glob.glob(f + '/*.wav')\n",
    "    lens.append(len(files))\n",
    "    addresses.append(files)\n",
    "    \n",
    "print('[*]Minimum number of files for any female is:',min(lens))"
   ]
  },
  {
   "cell_type": "markdown",
   "metadata": {},
   "source": [
    "## Processing the text\n",
    "\n",
    "The text will be our input to the generator model.\n",
    "\n",
    "We are making a character driven model rather than a word-based one-hot-encoded model. The issue with latter is that ['How', 'are', 'you', '?'] is same as ['you', 'How', 'are', '?']. But now that we are using a char based system we will have inputs like:\n",
    "##### (not actual input)\n",
    "\n",
    "[ 0,  0,  0,  0,  0,  0,  0,  0,  0, 36, 33, 46,  1, 27, 33, 32, 42, 33, 47, 32, 29, 53,  1, 29, 48,  1, 48, 36, 33,  1, 48, 46, 29, 37, 42,  1, 47, 48, 29, 48, 37, 43, 42,  5]\n",
    "\n",
    "As we can see that some of the chars are repeating and we can also use its temporal data, i.e. the placement of different letters.\n",
    "\n",
    "This adds up as another benifit of the model that it is now free of way the text is spoken, i.e. we can generate fine sounding gibirish just like done in the wavenet paper."
   ]
  },
  {
   "cell_type": "code",
   "execution_count": 6,
   "metadata": {},
   "outputs": [
    {
     "name": "stdout",
     "output_type": "stream",
     "text": [
      "[*]Total unique characters are: 54\n"
     ]
    }
   ],
   "source": [
    "# Making the text data char based rather than word based\n",
    "# Processing the text\n",
    "files_text = glob.glob(folder_text[0] + '/*.txt')\n",
    "\n",
    "# making the whole corpus\n",
    "corpus = u\"\"\n",
    "for file_path in files_text:\n",
    "    f = codecs.open(file_path, 'r', 'utf-8')\n",
    "    corpus += f.read()\n",
    "\n",
    "# converting to sentences and then into chars\n",
    "corpus = corpus.split('\\n')\n",
    "sentences = []\n",
    "chars = []\n",
    "for s in corpus:\n",
    "    temp = []\n",
    "    for c in s:\n",
    "        temp.append(c)\n",
    "        chars.extend(c)\n",
    "    sentences.append(temp)\n",
    "        \n",
    "# now making the char2id dictionary\n",
    "chars = sorted(list(set(chars)))\n",
    "print('[*]Total unique characters are:', len(chars))\n",
    "char2id = dict((c,int(i+1)) for i,c in enumerate(chars))\n",
    "# we are adding or increasing by 1 because, 0 is used for padding"
   ]
  },
  {
   "cell_type": "code",
   "execution_count": 7,
   "metadata": {},
   "outputs": [
    {
     "name": "stdout",
     "output_type": "stream",
     "text": [
      "[%]Sentence with largest characters is: 178\n",
      "[%]data_gen.shape (172, 178)\n"
     ]
    }
   ],
   "source": [
    "# now we convert our text to vectors\n",
    "maxlen_sent = max([len(s) for s in sentences])\n",
    "print('[%]Sentence with largest characters is:', maxlen_sent)\n",
    "\n",
    "data_gen = []\n",
    "for s in sentences[:min(lens)]:\n",
    "    temp = []\n",
    "    for t in s:\n",
    "        temp.append(char2id[t])\n",
    "    data_gen.append(temp)\n",
    "\n",
    "# now padding the sentenecs to max_len\n",
    "data_gen = pad_sequences(data_gen)\n",
    "print('[%]data_gen.shape', data_gen.shape)"
   ]
  },
  {
   "cell_type": "markdown",
   "metadata": {},
   "source": [
    "## Loading the audio\n",
    "\n",
    "These will be fed into our discriminator model. The discriminator will have to decide whether it's true or not."
   ]
  },
  {
   "cell_type": "code",
   "execution_count": 8,
   "metadata": {
    "collapsed": true
   },
   "outputs": [],
   "source": [
    "# gettings ids for all the female audio\n",
    "ids = []\n",
    "for i, idx in enumerate(info['ID']):\n",
    "    if info['GENDER'][i] == 'F':\n",
    "        ids.append(idx)\n",
    "\n",
    "# Making all the folders\n",
    "# while we are using a sigle audio file, this is useless\n",
    "# folders = [str(f_path + '/wav48/p{0}'.format(i)) for i in ids]"
   ]
  },
  {
   "cell_type": "code",
   "execution_count": 9,
   "metadata": {
    "collapsed": true
   },
   "outputs": [],
   "source": [
    "# For running a prototype, lets only take a few files, for running the whole model we will take all the files\n",
    "\n",
    "# We will be taking only 1 speaker and use their audio for discrimination\n",
    "total_audio = []\n",
    "for f in addresses[:1]:\n",
    "    temp = []\n",
    "    for a in f[:min(lens)]:\n",
    "        temp2 = []\n",
    "        data = wvf.read(a)[1]\n",
    "        for d in data:\n",
    "            temp2.append(d)\n",
    "        temp.append(temp2)\n",
    "    total_audio.append(temp)"
   ]
  },
  {
   "cell_type": "code",
   "execution_count": 10,
   "metadata": {},
   "outputs": [
    {
     "name": "stdout",
     "output_type": "stream",
     "text": [
      "['W', 'e', ' ', 'a', 'l', 's', 'o', ' ', 'n', 'e', 'e', 'd', ' ', 'a', ' ', 's', 'm', 'a', 'l', 'l', ' ', 'p', 'l', 'a', 's', 't', 'i', 'c', ' ', 's', 'n', 'a', 'k', 'e', ' ', 'a', 'n', 'd', ' ', 'a', ' ', 'b', 'i', 'g', ' ', 't', 'o', 'y', ' ', 'f', 'r', 'o', 'g', ' ', 'f', 'o', 'r', ' ', 't', 'h', 'e', ' ', 'k', 'i', 'd', 's', '.']\n"
     ]
    },
    {
     "data": {
      "text/plain": [
       "[<matplotlib.lines.Line2D at 0x10acf27f0>]"
      ]
     },
     "execution_count": 10,
     "metadata": {},
     "output_type": "execute_result"
    },
    {
     "data": {
      "image/png": "[encoded data removed]",
      "text/plain": [
       "<matplotlib.figure.Figure at 0x11bbdf710>"
      ]
     },
     "metadata": {},
     "output_type": "display_data"
    }
   ],
   "source": [
    "print(sentences[3])\n",
    "plt.plot(total_audio[0][3])"
   ]
  },
  {
   "cell_type": "code",
   "execution_count": 11,
   "metadata": {},
   "outputs": [
    {
     "name": "stdout",
     "output_type": "stream",
     "text": [
      "Length of each sequence is: 630649\n"
     ]
    }
   ],
   "source": [
    "# Padding the audio files with 0s too so that they can be fed into the convolutional models\n",
    "maxlen_p = max([len(a) for a in total_audio[0]])\n",
    "seq_len = maxlen_p # max(maxlen_p1, maxlen_p2, maxlen_p3)\n",
    "print('Length of each sequence is:', seq_len)"
   ]
  },
  {
   "cell_type": "code",
   "execution_count": 12,
   "metadata": {},
   "outputs": [
    {
     "name": "stdout",
     "output_type": "stream",
     "text": [
      "Shape of audio file: (172, 630850, 1)\n"
     ]
    }
   ],
   "source": [
    "data_audio = []\n",
    "for i in range(len(total_audio)):\n",
    "    # the reason for using this maxlen is due to the limitations of convolution architecture\n",
    "    # the architecture is explained below\n",
    "    data_audio.append(pad_sequences(total_audio[i], maxlen = 630850))\n",
    "data_audio = np.array(data_audio[0])\n",
    "data_audio = np.reshape(data_audio, [-1, 630850, 1])\n",
    "print('Shape of audio file:',data_audio.shape)"
   ]
  },
  {
   "cell_type": "markdown",
   "metadata": {},
   "source": [
    "## A Generative Adverserial Model \n",
    "\n",
    "Now we make a GAN which has 2 parts a generator part and a discriminator part.\n",
    "\n",
    "We will be creating this new architecture, I need to make a custom sketch for it.\n",
    "\n",
    "We will be using batch normalisation in generator model, you can [learn more about it](https://medium.com/deeper-learning/glossary-of-deep-learning-batch-normalisation-8266dcd2fa82). Basically it normalizes the input such that new_mean = 0.0 and new_std = 1.0 ."
   ]
  },
  {
   "cell_type": "code",
   "execution_count": 13,
   "metadata": {},
   "outputs": [],
   "source": [
    "# Defining the params\n",
    "session = tf.Session()\n",
    "total_audio = data_audio\n",
    "total_text = data_gen\n",
    "seq_length = 630850\n",
    "text_length = data_gen.shape[1]\n",
    "n_epochs = 30\n",
    "learning_rate = 0.002\n",
    "d_step = 3\n",
    "save_step = 10\n",
    "verbose = True"
   ]
  },
  {
   "cell_type": "code",
   "execution_count": 16,
   "metadata": {},
   "outputs": [
    {
     "name": "stdout",
     "output_type": "stream",
     "text": [
      "[*]g1: Tensor(\"Reshape_6:0\", shape=(?, 1380, 1), dtype=float32)\n",
      "[*]g2: Tensor(\"Reshape_7:0\", shape=(?, 17920, 1), dtype=float32)\n",
      "[*]g3: Tensor(\"Reshape_8:0\", shape=(?, 114688, 1), dtype=float32)\n",
      "[*]g4: Tensor(\"Reshape_9:0\", shape=(?, 630850, 1), dtype=float32)\n",
      "Tensor(\"Reshape_9:0\", shape=(?, 630850, 1), dtype=float32)\n",
      "[*]d1: Tensor(\"add_19:0\", shape=(?, 6309, 16), dtype=float32)\n",
      "[*]d2: Tensor(\"add_20:0\", shape=(?, 158, 32), dtype=float32)\n",
      "[*]d3: Tensor(\"add_21:0\", shape=(?, 8, 128), dtype=float32)\n",
      "[*]d4: Tensor(\"Relu_2:0\", shape=(?, 1024), dtype=float32)\n",
      "[*]d5: Tensor(\"add_23:0\", shape=(?, 1), dtype=float32)\n",
      "[!]Model Build, Ready for training...\n"
     ]
    }
   ],
   "source": [
    "# loading the model\n",
    "agan = Agan.AGAN(session = session, total_audio = total_audio, total_text = data_gen, seq_length = seq_length,\n",
    "            text_length = text_length, n_epochs = n_epochs, learning_rate = learning_rate, \n",
    "            d_step = d_step, save_step = save_step, verbose = verbose)\n",
    "# building the model\n",
    "agan.build_model()"
   ]
  },
  {
   "cell_type": "code",
   "execution_count": 15,
   "metadata": {
    "scrolled": false
   },
   "outputs": [
    {
     "ename": "KeyboardInterrupt",
     "evalue": "",
     "output_type": "error",
     "traceback": [
      "\u001b[0;31m--------------------\u001b[0m",
      "\u001b[0;31mKeyboardInterrupt\u001b[0mTraceback (most recent call last)",
      "\u001b[0;32m<ipython-input-15-e65183a5a3da>\u001b[0m in \u001b[0;36m<module>\u001b[0;34m()\u001b[0m\n\u001b[0;32m----> 1\u001b[0;31m \u001b[0magan\u001b[0m\u001b[0;34m.\u001b[0m\u001b[0mtrain\u001b[0m\u001b[0;34m(\u001b[0m\u001b[0;34m)\u001b[0m\u001b[0;34m\u001b[0m\u001b[0m\n\u001b[0m",
      "\u001b[0;32m~/Desktop/machine_learning/Audio_Exps/VCTK-Corpus/Scripts/model_AGAN.py\u001b[0m in \u001b[0;36mtrain\u001b[0;34m(self)\u001b[0m\n\u001b[1;32m    190\u001b[0m                         \u001b[0;31m# display and saving the model\u001b[0m\u001b[0;34m\u001b[0m\u001b[0;34m\u001b[0m\u001b[0m\n\u001b[1;32m    191\u001b[0m                         \u001b[0;32mif\u001b[0m \u001b[0;34m(\u001b[0m\u001b[0me\u001b[0m\u001b[0;34m+\u001b[0m\u001b[0;36m1\u001b[0m\u001b[0;34m)\u001b[0m \u001b[0;34m%\u001b[0m \u001b[0mself\u001b[0m\u001b[0;34m.\u001b[0m\u001b[0mdisplay_step\u001b[0m \u001b[0;34m==\u001b[0m \u001b[0;36m0\u001b[0m\u001b[0;34m:\u001b[0m\u001b[0;34m\u001b[0m\u001b[0m\n\u001b[0;32m--> 192\u001b[0;31m                                 \u001b[0mdloss_real\u001b[0m\u001b[0;34m,\u001b[0m \u001b[0mdloss_fake\u001b[0m\u001b[0;34m,\u001b[0m \u001b[0mg_loss\u001b[0m \u001b[0;34m=\u001b[0m \u001b[0mself\u001b[0m\u001b[0;34m.\u001b[0m\u001b[0msess\u001b[0m\u001b[0;34m.\u001b[0m\u001b[0mrun\u001b[0m\u001b[0;34m(\u001b[0m\u001b[0;34m[\u001b[0m\u001b[0mself\u001b[0m\u001b[0;34m.\u001b[0m\u001b[0md_loss_real\u001b[0m\u001b[0;34m,\u001b[0m \u001b[0mself\u001b[0m\u001b[0;34m.\u001b[0m\u001b[0md_loss_fake\u001b[0m\u001b[0;34m,\u001b[0m \u001b[0mself\u001b[0m\u001b[0;34m.\u001b[0m\u001b[0mgenerator_loss\u001b[0m\u001b[0;34m]\u001b[0m\u001b[0;34m,\u001b[0m \u001b[0mfeed_dict\u001b[0m \u001b[0;34m=\u001b[0m \u001b[0mfeed_dict\u001b[0m\u001b[0;34m)\u001b[0m\u001b[0;34m\u001b[0m\u001b[0m\n\u001b[0m\u001b[1;32m    193\u001b[0m                                 \u001b[0mprint\u001b[0m\u001b[0;34m(\u001b[0m\u001b[0;34m'[*]epoch:{0}; dloss_real:{1}; dloss_fake:{2}; g_loss:{3}'\u001b[0m\u001b[0;34m.\u001b[0m\u001b[0mformat\u001b[0m\u001b[0;34m(\u001b[0m\u001b[0me\u001b[0m\u001b[0;34m+\u001b[0m\u001b[0;36m1\u001b[0m\u001b[0;34m,\u001b[0m \u001b[0mdloss_real\u001b[0m\u001b[0;34m,\u001b[0m \u001b[0mdloss_fake\u001b[0m\u001b[0;34m,\u001b[0m \u001b[0mg_loss\u001b[0m\u001b[0;34m)\u001b[0m\u001b[0;34m)\u001b[0m\u001b[0;34m\u001b[0m\u001b[0m\n\u001b[1;32m    194\u001b[0m \t\t\t'''\n",
      "\u001b[0;32m/usr/local/lib/python3.6/site-packages/tensorflow/python/client/session.py\u001b[0m in \u001b[0;36mrun\u001b[0;34m(self, fetches, feed_dict, options, run_metadata)\u001b[0m\n\u001b[1;32m    893\u001b[0m     \u001b[0;32mtry\u001b[0m\u001b[0;34m:\u001b[0m\u001b[0;34m\u001b[0m\u001b[0m\n\u001b[1;32m    894\u001b[0m       result = self._run(None, fetches, feed_dict, options_ptr,\n\u001b[0;32m--> 895\u001b[0;31m                          run_metadata_ptr)\n\u001b[0m\u001b[1;32m    896\u001b[0m       \u001b[0;32mif\u001b[0m \u001b[0mrun_metadata\u001b[0m\u001b[0;34m:\u001b[0m\u001b[0;34m\u001b[0m\u001b[0m\n\u001b[1;32m    897\u001b[0m         \u001b[0mproto_data\u001b[0m \u001b[0;34m=\u001b[0m \u001b[0mtf_session\u001b[0m\u001b[0;34m.\u001b[0m\u001b[0mTF_GetBuffer\u001b[0m\u001b[0;34m(\u001b[0m\u001b[0mrun_metadata_ptr\u001b[0m\u001b[0;34m)\u001b[0m\u001b[0;34m\u001b[0m\u001b[0m\n",
      "\u001b[0;32m/usr/local/lib/python3.6/site-packages/tensorflow/python/client/session.py\u001b[0m in \u001b[0;36m_run\u001b[0;34m(self, handle, fetches, feed_dict, options, run_metadata)\u001b[0m\n\u001b[1;32m   1122\u001b[0m     \u001b[0;32mif\u001b[0m \u001b[0mfinal_fetches\u001b[0m \u001b[0;32mor\u001b[0m \u001b[0mfinal_targets\u001b[0m \u001b[0;32mor\u001b[0m \u001b[0;34m(\u001b[0m\u001b[0mhandle\u001b[0m \u001b[0;32mand\u001b[0m \u001b[0mfeed_dict_tensor\u001b[0m\u001b[0;34m)\u001b[0m\u001b[0;34m:\u001b[0m\u001b[0;34m\u001b[0m\u001b[0m\n\u001b[1;32m   1123\u001b[0m       results = self._do_run(handle, final_targets, final_fetches,\n\u001b[0;32m-> 1124\u001b[0;31m                              feed_dict_tensor, options, run_metadata)\n\u001b[0m\u001b[1;32m   1125\u001b[0m     \u001b[0;32melse\u001b[0m\u001b[0;34m:\u001b[0m\u001b[0;34m\u001b[0m\u001b[0m\n\u001b[1;32m   1126\u001b[0m       \u001b[0mresults\u001b[0m \u001b[0;34m=\u001b[0m \u001b[0;34m[\u001b[0m\u001b[0;34m]\u001b[0m\u001b[0;34m\u001b[0m\u001b[0m\n",
      "\u001b[0;32m/usr/local/lib/python3.6/site-packages/tensorflow/python/client/session.py\u001b[0m in \u001b[0;36m_do_run\u001b[0;34m(self, handle, target_list, fetch_list, feed_dict, options, run_metadata)\u001b[0m\n\u001b[1;32m   1319\u001b[0m     \u001b[0;32mif\u001b[0m \u001b[0mhandle\u001b[0m \u001b[0;32mis\u001b[0m \u001b[0;32mNone\u001b[0m\u001b[0;34m:\u001b[0m\u001b[0;34m\u001b[0m\u001b[0m\n\u001b[1;32m   1320\u001b[0m       return self._do_call(_run_fn, self._session, feeds, fetches, targets,\n\u001b[0;32m-> 1321\u001b[0;31m                            options, run_metadata)\n\u001b[0m\u001b[1;32m   1322\u001b[0m     \u001b[0;32melse\u001b[0m\u001b[0;34m:\u001b[0m\u001b[0;34m\u001b[0m\u001b[0m\n\u001b[1;32m   1323\u001b[0m       \u001b[0;32mreturn\u001b[0m \u001b[0mself\u001b[0m\u001b[0;34m.\u001b[0m\u001b[0m_do_call\u001b[0m\u001b[0;34m(\u001b[0m\u001b[0m_prun_fn\u001b[0m\u001b[0;34m,\u001b[0m \u001b[0mself\u001b[0m\u001b[0;34m.\u001b[0m\u001b[0m_session\u001b[0m\u001b[0;34m,\u001b[0m \u001b[0mhandle\u001b[0m\u001b[0;34m,\u001b[0m \u001b[0mfeeds\u001b[0m\u001b[0;34m,\u001b[0m \u001b[0mfetches\u001b[0m\u001b[0;34m)\u001b[0m\u001b[0;34m\u001b[0m\u001b[0m\n",
      "\u001b[0;32m/usr/local/lib/python3.6/site-packages/tensorflow/python/client/session.py\u001b[0m in \u001b[0;36m_do_call\u001b[0;34m(self, fn, *args)\u001b[0m\n\u001b[1;32m   1325\u001b[0m   \u001b[0;32mdef\u001b[0m \u001b[0m_do_call\u001b[0m\u001b[0;34m(\u001b[0m\u001b[0mself\u001b[0m\u001b[0;34m,\u001b[0m \u001b[0mfn\u001b[0m\u001b[0;34m,\u001b[0m \u001b[0;34m*\u001b[0m\u001b[0margs\u001b[0m\u001b[0;34m)\u001b[0m\u001b[0;34m:\u001b[0m\u001b[0;34m\u001b[0m\u001b[0m\n\u001b[1;32m   1326\u001b[0m     \u001b[0;32mtry\u001b[0m\u001b[0;34m:\u001b[0m\u001b[0;34m\u001b[0m\u001b[0m\n\u001b[0;32m-> 1327\u001b[0;31m       \u001b[0;32mreturn\u001b[0m \u001b[0mfn\u001b[0m\u001b[0;34m(\u001b[0m\u001b[0;34m*\u001b[0m\u001b[0margs\u001b[0m\u001b[0;34m)\u001b[0m\u001b[0;34m\u001b[0m\u001b[0m\n\u001b[0m\u001b[1;32m   1328\u001b[0m     \u001b[0;32mexcept\u001b[0m \u001b[0merrors\u001b[0m\u001b[0;34m.\u001b[0m\u001b[0mOpError\u001b[0m \u001b[0;32mas\u001b[0m \u001b[0me\u001b[0m\u001b[0;34m:\u001b[0m\u001b[0;34m\u001b[0m\u001b[0m\n\u001b[1;32m   1329\u001b[0m       \u001b[0mmessage\u001b[0m \u001b[0;34m=\u001b[0m \u001b[0mcompat\u001b[0m\u001b[0;34m.\u001b[0m\u001b[0mas_text\u001b[0m\u001b[0;34m(\u001b[0m\u001b[0me\u001b[0m\u001b[0;34m.\u001b[0m\u001b[0mmessage\u001b[0m\u001b[0;34m)\u001b[0m\u001b[0;34m\u001b[0m\u001b[0m\n",
      "\u001b[0;32m/usr/local/lib/python3.6/site-packages/tensorflow/python/client/session.py\u001b[0m in \u001b[0;36m_run_fn\u001b[0;34m(session, feed_dict, fetch_list, target_list, options, run_metadata)\u001b[0m\n\u001b[1;32m   1304\u001b[0m           return tf_session.TF_Run(session, options,\n\u001b[1;32m   1305\u001b[0m                                    \u001b[0mfeed_dict\u001b[0m\u001b[0;34m,\u001b[0m \u001b[0mfetch_list\u001b[0m\u001b[0;34m,\u001b[0m \u001b[0mtarget_list\u001b[0m\u001b[0;34m,\u001b[0m\u001b[0;34m\u001b[0m\u001b[0m\n\u001b[0;32m-> 1306\u001b[0;31m                                    status, run_metadata)\n\u001b[0m\u001b[1;32m   1307\u001b[0m \u001b[0;34m\u001b[0m\u001b[0m\n\u001b[1;32m   1308\u001b[0m     \u001b[0;32mdef\u001b[0m \u001b[0m_prun_fn\u001b[0m\u001b[0;34m(\u001b[0m\u001b[0msession\u001b[0m\u001b[0;34m,\u001b[0m \u001b[0mhandle\u001b[0m\u001b[0;34m,\u001b[0m \u001b[0mfeed_dict\u001b[0m\u001b[0;34m,\u001b[0m \u001b[0mfetch_list\u001b[0m\u001b[0;34m)\u001b[0m\u001b[0;34m:\u001b[0m\u001b[0;34m\u001b[0m\u001b[0m\n",
      "\u001b[0;31mKeyboardInterrupt\u001b[0m: "
     ]
    }
   ],
   "source": [
    "agan.train()"
   ]
  },
  {
   "cell_type": "code",
   "execution_count": null,
   "metadata": {
    "collapsed": true
   },
   "outputs": [],
   "source": []
  }
 ],
 "metadata": {
  "kernelspec": {
   "display_name": "Python 3",
   "language": "python",
   "name": "python3"
  },
  "language_info": {
   "codemirror_mode": {
    "name": "ipython",
    "version": 3
   },
   "file_extension": ".py",
   "mimetype": "text/x-python",
   "name": "python",
   "nbconvert_exporter": "python",
   "pygments_lexer": "ipython3",
   "version": "3.6.1"
  }
 },
 "nbformat": 4,
 "nbformat_minor": 2
}
